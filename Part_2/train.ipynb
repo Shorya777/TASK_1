{
 "cells": [
  {
   "cell_type": "code",
   "execution_count": 3,
   "metadata": {},
   "outputs": [],
   "source": [
    "import numpy as np\n",
    "from req import LinearLayer, BatchNormalization, TanhActivation, CrossEntropyLoss, MLP"
   ]
  },
  {
   "cell_type": "code",
   "execution_count": 2,
   "metadata": {},
   "outputs": [
    {
     "name": "stdout",
     "output_type": "stream",
     "text": [
      "Epoch 0, Loss: 1.3832175552265586\n",
      "Epoch 100, Loss: 0.34038282787426055\n",
      "Epoch 200, Loss: 0.2399799449763962\n",
      "Epoch 300, Loss: 0.1613468357805539\n",
      "Epoch 400, Loss: 0.12367688629215248\n",
      "Epoch 500, Loss: 0.10082105326679129\n",
      "Epoch 600, Loss: 0.0858332735313008\n",
      "Epoch 700, Loss: 0.07556862915880849\n",
      "Epoch 800, Loss: 0.06822588391815625\n",
      "Epoch 900, Loss: 0.06221555360928617\n"
     ]
    }
   ],
   "source": [
    "# Initialize the network\n",
    "input_size = 4  # Example input feature size\n",
    "hidden_size = 5  # Hidden layer size\n",
    "output_size = 3  # Number of output classes\n",
    "\n",
    "mlp = MLP(input_size, hidden_size, output_size)\n",
    "\n",
    "# Example data\n",
    "x = np.random.randn(input_size, 10)  # 10 samples\n",
    "y = np.zeros((output_size, 10))\n",
    "y[np.random.randint(0, output_size, 10), np.arange(10)] = 1  # Random one-hot labels\n",
    "\n",
    "# Training loop\n",
    "learning_rate = 0.01\n",
    "for epoch in range(1000):\n",
    "    # Forward pass\n",
    "    loss = mlp.forward(x, y)\n",
    "    \n",
    "    # Backward pass\n",
    "    mlp.backward()\n",
    "    \n",
    "    # Update parameters\n",
    "    for layer in [mlp.layer1, mlp.layer2]:\n",
    "        layer.weights -= learning_rate * layer.dweights\n",
    "        layer.bias -= learning_rate * layer.dbias\n",
    "    for bn in [mlp.bn1, mlp.bn2]:\n",
    "        bn.gamma -= learning_rate * bn.dgamma\n",
    "        bn.beta -= learning_rate * bn.dbeta\n",
    "\n",
    "    if epoch % 100 == 0:\n",
    "        print(f\"Epoch {epoch}, Loss: {loss}\")\n"
   ]
  }
 ],
 "metadata": {
  "kernelspec": {
   "display_name": "Python 3",
   "language": "python",
   "name": "python3"
  },
  "language_info": {
   "codemirror_mode": {
    "name": "ipython",
    "version": 3
   },
   "file_extension": ".py",
   "mimetype": "text/x-python",
   "name": "python",
   "nbconvert_exporter": "python",
   "pygments_lexer": "ipython3",
   "version": "3.10.5"
  }
 },
 "nbformat": 4,
 "nbformat_minor": 2
}
